{
 "cells": [
  {
   "cell_type": "markdown",
   "metadata": {},
   "source": [
    "# Prediction vine quality with neural net"
   ]
  },
  {
   "cell_type": "markdown",
   "metadata": {},
   "source": [
    "We have data set wiht differenr vine characteristic and  quality"
   ]
  },
  {
   "cell_type": "code",
   "execution_count": 7,
   "metadata": {
    "collapsed": false
   },
   "outputs": [
    {
     "name": "stdout",
     "output_type": "stream",
     "text": [
      "   fixed acidity  volatile acidity  citric acid  residual sugar  chlorides  \\\n",
      "0            7.4              0.70         0.00             1.9      0.076   \n",
      "1            7.8              0.88         0.00             2.6      0.098   \n",
      "2            7.8              0.76         0.04             2.3      0.092   \n",
      "3           11.2              0.28         0.56             1.9      0.075   \n",
      "4            7.4              0.70         0.00             1.9      0.076   \n",
      "5            7.4              0.66         0.00             1.8      0.075   \n",
      "6            7.9              0.60         0.06             1.6      0.069   \n",
      "7            7.3              0.65         0.00             1.2      0.065   \n",
      "8            7.8              0.58         0.02             2.0      0.073   \n",
      "9            7.5              0.50         0.36             6.1      0.071   \n",
      "\n",
      "   free sulfur dioxide  total sulfur dioxide  density    pH  sulphates  \\\n",
      "0                 11.0                  34.0   0.9978  3.51       0.56   \n",
      "1                 25.0                  67.0   0.9968  3.20       0.68   \n",
      "2                 15.0                  54.0   0.9970  3.26       0.65   \n",
      "3                 17.0                  60.0   0.9980  3.16       0.58   \n",
      "4                 11.0                  34.0   0.9978  3.51       0.56   \n",
      "5                 13.0                  40.0   0.9978  3.51       0.56   \n",
      "6                 15.0                  59.0   0.9964  3.30       0.46   \n",
      "7                 15.0                  21.0   0.9946  3.39       0.47   \n",
      "8                  9.0                  18.0   0.9968  3.36       0.57   \n",
      "9                 17.0                 102.0   0.9978  3.35       0.80   \n",
      "\n",
      "   alcohol  quality  \n",
      "0      9.4        5  \n",
      "1      9.8        5  \n",
      "2      9.8        5  \n",
      "3      9.8        6  \n",
      "4      9.4        5  \n",
      "5      9.4        5  \n",
      "6      9.4        5  \n",
      "7     10.0        7  \n",
      "8      9.5        7  \n",
      "9     10.5        5  \n"
     ]
    }
   ],
   "source": [
    "import pandas as pd\n",
    "vine_data = pd.read_csv(\"winequality-red.csv\", sep=\";\", header = 0)\n",
    "print vine_data[:10]"
   ]
  },
  {
   "cell_type": "code",
   "execution_count": 8,
   "metadata": {
    "collapsed": false
   },
   "outputs": [
    {
     "name": "stdout",
     "output_type": "stream",
     "text": [
      "[[  7.40000000e+00   7.00000000e-01   0.00000000e+00   1.90000000e+00\n",
      "    7.60000000e-02   1.10000000e+01   3.40000000e+01   9.97800000e-01\n",
      "    3.51000000e+00   5.60000000e-01   9.40000000e+00   5.00000000e+00]\n",
      " [  7.80000000e+00   8.80000000e-01   0.00000000e+00   2.60000000e+00\n",
      "    9.80000000e-02   2.50000000e+01   6.70000000e+01   9.96800000e-01\n",
      "    3.20000000e+00   6.80000000e-01   9.80000000e+00   5.00000000e+00]\n",
      " [  7.80000000e+00   7.60000000e-01   4.00000000e-02   2.30000000e+00\n",
      "    9.20000000e-02   1.50000000e+01   5.40000000e+01   9.97000000e-01\n",
      "    3.26000000e+00   6.50000000e-01   9.80000000e+00   5.00000000e+00]\n",
      " [  1.12000000e+01   2.80000000e-01   5.60000000e-01   1.90000000e+00\n",
      "    7.50000000e-02   1.70000000e+01   6.00000000e+01   9.98000000e-01\n",
      "    3.16000000e+00   5.80000000e-01   9.80000000e+00   6.00000000e+00]\n",
      " [  7.40000000e+00   7.00000000e-01   0.00000000e+00   1.90000000e+00\n",
      "    7.60000000e-02   1.10000000e+01   3.40000000e+01   9.97800000e-01\n",
      "    3.51000000e+00   5.60000000e-01   9.40000000e+00   5.00000000e+00]\n",
      " [  7.40000000e+00   6.60000000e-01   0.00000000e+00   1.80000000e+00\n",
      "    7.50000000e-02   1.30000000e+01   4.00000000e+01   9.97800000e-01\n",
      "    3.51000000e+00   5.60000000e-01   9.40000000e+00   5.00000000e+00]\n",
      " [  7.90000000e+00   6.00000000e-01   6.00000000e-02   1.60000000e+00\n",
      "    6.90000000e-02   1.50000000e+01   5.90000000e+01   9.96400000e-01\n",
      "    3.30000000e+00   4.60000000e-01   9.40000000e+00   5.00000000e+00]\n",
      " [  7.30000000e+00   6.50000000e-01   0.00000000e+00   1.20000000e+00\n",
      "    6.50000000e-02   1.50000000e+01   2.10000000e+01   9.94600000e-01\n",
      "    3.39000000e+00   4.70000000e-01   1.00000000e+01   7.00000000e+00]\n",
      " [  7.80000000e+00   5.80000000e-01   2.00000000e-02   2.00000000e+00\n",
      "    7.30000000e-02   9.00000000e+00   1.80000000e+01   9.96800000e-01\n",
      "    3.36000000e+00   5.70000000e-01   9.50000000e+00   7.00000000e+00]\n",
      " [  7.50000000e+00   5.00000000e-01   3.60000000e-01   6.10000000e+00\n",
      "    7.10000000e-02   1.70000000e+01   1.02000000e+02   9.97800000e-01\n",
      "    3.35000000e+00   8.00000000e-01   1.05000000e+01   5.00000000e+00]]\n"
     ]
    }
   ],
   "source": [
    "import random\n",
    "import matplotlib.pyplot as plt\n",
    "import pybrain\n",
    "from sklearn.preprocessing import normalize\n",
    "from sklearn.cross_validation import train_test_split\n",
    "import numpy as np\n",
    "from pybrain.tools.shortcuts import buildNetwork\n",
    "from pybrain.supervised.trainers import BackpropTrainer\n",
    "from pybrain.structure.modules import SoftmaxLayer\n",
    "from pybrain.utilities import percentError\n",
    "from pybrain.datasets import ClassificationDataSet\n",
    "\n",
    "with open('winequality-red.csv') as f:\n",
    "    f.readline() # skip head line\n",
    "    data = np.loadtxt(f, delimiter=';')\n",
    "# import urllib # get data from url\n",
    "# # URL for the Wine Quality Data Set (UCI Machine Learning Repository)\n",
    "# url = \"https://archive.ics.uci.edu/ml/machine-learning-databases/wine-quality/winequality-red.csv\"\n",
    "# f = urllib.urlopen(url)\n",
    "# f.readline()  # skip head line\n",
    "# data = np.loadtxt(f, delimiter=';')\n",
    "print data[:10]"
   ]
  },
  {
   "cell_type": "markdown",
   "metadata": {},
   "source": [
    "Divide data to test and train.\n",
    "\n",
    "There are 10 classes of vine, we will convert it to 3 classes"
   ]
  },
  {
   "cell_type": "code",
   "execution_count": 9,
   "metadata": {
    "collapsed": false
   },
   "outputs": [],
   "source": [
    "TRAIN_SIZE = 0.7 \n",
    "y = data[:, -1]\n",
    "# there are 10 classes of vine, we will convert it to 3 classes\n",
    "np.place(y, y < 5, 5)\n",
    "np.place(y, y > 7, 7)\n",
    "# minus mininum value and save changes\n",
    "y -= min(y)\n",
    "X = data[:, :-1]\n",
    "X = normalize(X)\n",
    "X_train, X_test, y_train, y_test = train_test_split(X, y, train_size=TRAIN_SIZE, random_state=0)\n",
    "HIDDEN_NEURONS_NUM = 100 # number of neurons in hidden lvl\n",
    "MAX_EPOCHS = 100 # max number of iterations algorythm of optimization param"
   ]
  },
  {
   "cell_type": "markdown",
   "metadata": {},
   "source": [
    "Convert data to structure ClassificationDataSet (Specialized data set for classification data. Classes are to be numbered from 0 to nb_classes-1.)\n"
   ]
  },
  {
   "cell_type": "code",
   "execution_count": 12,
   "metadata": {
    "collapsed": false
   },
   "outputs": [
    {
     "name": "stdout",
     "output_type": "stream",
     "text": [
      "after classds input: dim(0, 11)\n",
      "[]\n",
      "\n",
      "target: dim(0, 1)\n",
      "[]\n",
      "\n",
      "class: dim(0, 1)\n",
      "[]\n",
      "\n",
      "\n",
      "after input input: dim(1119, 11)\n",
      "[[ 0.06368128  0.00362835  0.00214739 ...,  0.02169606  0.0146615\n",
      "   0.07256704]\n",
      " [ 0.0690765   0.00155422  0.00319479 ...,  0.02495388  0.00379921\n",
      "   0.10965894]\n",
      " [ 0.14622821  0.01440778  0.         ...,  0.0731141   0.01591307\n",
      "   0.20859024]\n",
      " ..., \n",
      " [ 0.09790929  0.00706434  0.00384201 ...,  0.04077488  0.00855157\n",
      "   0.11773902]\n",
      " [ 0.25462776  0.00920577  0.00959751 ...,  0.06463628  0.01331899\n",
      "   0.24875174]\n",
      " [ 0.06256963  0.00625696  0.00204309 ...,  0.02075013  0.00306464\n",
      "   0.06001577]]\n",
      "\n",
      "target: dim(0, 1)\n",
      "[]\n",
      "\n",
      "class: dim(0, 1)\n",
      "[]\n",
      "\n",
      "\n",
      "after target input: dim(1119, 11)\n",
      "[[ 0.06368128  0.00362835  0.00214739 ...,  0.02169606  0.0146615\n",
      "   0.07256704]\n",
      " [ 0.0690765   0.00155422  0.00319479 ...,  0.02495388  0.00379921\n",
      "   0.10965894]\n",
      " [ 0.14622821  0.01440778  0.         ...,  0.0731141   0.01591307\n",
      "   0.20859024]\n",
      " ..., \n",
      " [ 0.09790929  0.00706434  0.00384201 ...,  0.04077488  0.00855157\n",
      "   0.11773902]\n",
      " [ 0.25462776  0.00920577  0.00959751 ...,  0.06463628  0.01331899\n",
      "   0.24875174]\n",
      " [ 0.06256963  0.00625696  0.00204309 ...,  0.02075013  0.00306464\n",
      "   0.06001577]]\n",
      "\n",
      "target: dim(1119, 1)\n",
      "[[ 0.]\n",
      " [ 1.]\n",
      " [ 0.]\n",
      " ..., \n",
      " [ 1.]\n",
      " [ 1.]\n",
      " [ 0.]]\n",
      "\n",
      "class: dim(0, 1)\n",
      "[]\n",
      "\n",
      "\n",
      "after convert input: dim(1119, 11)\n",
      "[[ 0.06368128  0.00362835  0.00214739 ...,  0.02169606  0.0146615\n",
      "   0.07256704]\n",
      " [ 0.0690765   0.00155422  0.00319479 ...,  0.02495388  0.00379921\n",
      "   0.10965894]\n",
      " [ 0.14622821  0.01440778  0.         ...,  0.0731141   0.01591307\n",
      "   0.20859024]\n",
      " ..., \n",
      " [ 0.09790929  0.00706434  0.00384201 ...,  0.04077488  0.00855157\n",
      "   0.11773902]\n",
      " [ 0.25462776  0.00920577  0.00959751 ...,  0.06463628  0.01331899\n",
      "   0.24875174]\n",
      " [ 0.06256963  0.00625696  0.00204309 ...,  0.02075013  0.00306464\n",
      "   0.06001577]]\n",
      "\n",
      "target: dim(1119, 3)\n",
      "[[1 0 0]\n",
      " [0 1 0]\n",
      " [1 0 0]\n",
      " ..., \n",
      " [0 1 0]\n",
      " [0 1 0]\n",
      " [1 0 0]]\n",
      "\n",
      "class: dim(1119, 1)\n",
      "[[ 0.]\n",
      " [ 1.]\n",
      " [ 0.]\n",
      " ..., \n",
      " [ 1.]\n",
      " [ 1.]\n",
      " [ 0.]]\n",
      "\n",
      "\n"
     ]
    }
   ],
   "source": [
    "# train data\n",
    "ds_train = ClassificationDataSet(np.shape(X)[1], nb_classes=len(np.unique(y_train)))\n",
    "print 'after classds', ds_train\n",
    "# First arg is number of features np.shape(X)[1], \n",
    "# Second arg is number of classes len(np.unique(y_train)))\n",
    "ds_train.setField('input', X_train) # add features\n",
    "print 'after input', ds_train\n",
    "ds_train.setField('target', y_train[:, np.newaxis]) # add target column; np.newaxis creates vector\n",
    "print 'after target', ds_train\n",
    "ds_train._convertToOneOfMany( ) # 1 target column becomes 3 binar columns\n",
    "print 'after convert', ds_train\n",
    "# test data\n",
    "ds_test = ClassificationDataSet(np.shape(X)[1], nb_classes=len(np.unique(y_train)))\n",
    "ds_test.setField('input', X_test)\n",
    "ds_test.setField('target', y_test[:, np.newaxis])\n",
    "ds_test._convertToOneOfMany( ) \n",
    "\n",
    "np.random.seed(0)"
   ]
  },
  {
   "cell_type": "markdown",
   "metadata": {},
   "source": [
    "Feedforward network"
   ]
  },
  {
   "cell_type": "code",
   "execution_count": 13,
   "metadata": {
    "collapsed": false
   },
   "outputs": [
    {
     "data": {
      "image/png": "[encoded data removed]",
      "text/plain": [
       "<matplotlib.figure.Figure at 0x7f810ab8fd10>"
      ]
     },
     "metadata": {},
     "output_type": "display_data"
    },
    {
     "name": "stdout",
     "output_type": "stream",
     "text": [
      "Error on train:  51.2957998213 %\n",
      "Error on test:  47.2916666667 %\n"
     ]
    }
   ],
   "source": [
    "\n",
    "net = buildNetwork(ds_train.indim, HIDDEN_NEURONS_NUM, ds_train.outdim, outclass=SoftmaxLayer)\n",
    "# ds.indim -- number of neurons for first (ently) layer (features quantity)\n",
    "# ds.outdim -- number of neurons for last (exit) layer (number of classes)\n",
    "# SoftmaxLayer -- activation function (for multiple classes classification)\n",
    "\n",
    "init_params = np.random.random((len(net.params)))\n",
    "net._setParameters(init_params)\n",
    "\n",
    "np.random.seed(0)\n",
    "# module of setup for pybrain use random\n",
    "trainer = BackpropTrainer(net, dataset=ds_train) # Initializing module of optimization\n",
    "err_train, err_val = trainer.trainUntilConvergence(maxEpochs=MAX_EPOCHS)\n",
    "line_train = plt.plot(err_train, 'b', err_val, 'r')\n",
    "xlab = plt.xlabel('Iterations')\n",
    "ylab = plt.ylabel('Error')\n",
    "plt.show()\n",
    "\n",
    "res_train = net.activateOnDataset(ds_train).argmax(axis=1) # Count results from train data\n",
    "print 'Error on train: ', percentError(res_train, ds_train['target'].argmax(axis=1)), '%' # error count\n",
    "res_test = net.activateOnDataset(ds_test).argmax(axis=1) # ount results from trest data\n",
    "print 'Error on test: ', percentError(res_test, ds_test['target'].argmax(axis=1)), '%' # error count"
   ]
  },
  {
   "cell_type": "code",
   "execution_count": 17,
   "metadata": {
    "collapsed": false
   },
   "outputs": [],
   "source": [
    "# Big difference between test and train means net has very high learning rate but in this case all looks fine."
   ]
  },
  {
   "cell_type": "code",
   "execution_count": 18,
   "metadata": {
    "collapsed": false
   },
   "outputs": [
    {
     "name": "stdout",
     "output_type": "stream",
     "text": [
      "50\n"
     ]
    },
    {
     "data": {
      "image/png": "[encoded data removed]",
      "text/plain": [
       "<matplotlib.figure.Figure at 0x7f8119895710>"
      ]
     },
     "metadata": {},
     "output_type": "display_data"
    },
    {
     "name": "stdout",
     "output_type": "stream",
     "text": [
      "100\n"
     ]
    },
    {
     "data": {
      "image/png": "[encoded data removed]",
      "text/plain": [
       "<matplotlib.figure.Figure at 0x7f810811ba10>"
      ]
     },
     "metadata": {},
     "output_type": "display_data"
    }
   ],
   "source": [
    "def plot_classification_error(hidden_neurons_num, res_train_vec, res_test_vec):\n",
    "# hidden_neurons_num -- list with length h, contain amount of neurons that will be checked\n",
    "# hidden_neurons_num = [50, 100, 200, 500, 700, 1000];\n",
    "# res_train_vec -- list with length h, contain percentage of wrong results on train;\n",
    "# res_test_vec -- list with length h, contain percentage of wrong results on test;\n",
    "    plt.figure()\n",
    "    plt.plot(hidden_neurons_num, res_train_vec)\n",
    "    plt.plot(hidden_neurons_num, res_test_vec, '-r')\n",
    "    plt.show()\n",
    "\n",
    "#hidden_neurons_num = [50, 100, 200, 500, 700, 1000]\n",
    "hidden_neurons_num = [50, 100]\n",
    "res_train_vec = [[10]]\n",
    "res_test_vec = [[10]]\n",
    "####\n",
    "for nnum in hidden_neurons_num:\n",
    "\tHIDDEN_NEURONS_NUM = nnum\n",
    "\tprint HIDDEN_NEURONS_NUM\n",
    "\tnp.random.seed(0)\n",
    "\n",
    "# Feedforward network\n",
    "\tnet = buildNetwork(ds_train.indim, HIDDEN_NEURONS_NUM, ds_train.outdim, outclass=SoftmaxLayer)\n",
    "\tinit_params = np.random.random((len(net.params)))\n",
    "\tnet._setParameters(init_params)\n",
    "\n",
    "\trandom.seed(0)\n",
    "\ttrainer = BackpropTrainer(net, dataset=ds_train) # Initializing module of optimization\n",
    "\terr_train, err_val = trainer.trainUntilConvergence(maxEpochs=MAX_EPOCHS)\n",
    "\n",
    "    res_train = net.activateOnDataset(ds_train).argmax(axis=1) \n",
    "\tres_test = net.activateOnDataset(ds_test).argmax(axis=1) \n",
    "\tres_train_vec.append(err_train)\n",
    "\tres_test_vec.append(err_val)\n",
    "\tline_train = plt.plot(err_train, 'b', err_val, 'r')\n",
    "\txlab = plt.xlabel('Iterations')\n",
    "\tylab = plt.ylabel('Error')\n",
    "\tplt.show()\n",
    "\t\n",
    "res_train_vec = res_train_vec[1:]\n",
    "res_test_vec = res_test_vec[1:]"
   ]
  },
  {
   "cell_type": "code",
   "execution_count": null,
   "metadata": {
    "collapsed": true
   },
   "outputs": [],
   "source": []
  }
 ],
 "metadata": {
  "kernelspec": {
   "display_name": "Python 2",
   "language": "python",
   "name": "python2"
  },
  "language_info": {
   "codemirror_mode": {
    "name": "ipython",
    "version": 2
   },
   "file_extension": ".py",
   "mimetype": "text/x-python",
   "name": "python",
   "nbconvert_exporter": "python",
   "pygments_lexer": "ipython2",
   "version": "2.7.13"
  }
 },
 "nbformat": 4,
 "nbformat_minor": 2
}
